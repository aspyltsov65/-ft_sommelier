{
 "cells": [
  {
   "cell_type": "markdown",
   "metadata": {},
   "source": [
    "### V.1 Exploring the green reds"
   ]
  },
  {
   "cell_type": "markdown",
   "metadata": {},
   "source": [
    "### a) Write a function that will plot a scatterplot matrix of your red wine data."
   ]
  },
  {
   "cell_type": "code",
   "execution_count": 1,
   "metadata": {},
   "outputs": [
    {
     "data": {
      "text/plain": [
       "<Figure size 3000x3000 with 144 Axes>"
      ]
     },
     "metadata": {},
     "output_type": "display_data"
    }
   ],
   "source": [
    "import pandas as pd\n",
    "import matplotlib.pyplot as plt\n",
    "\n",
    "wine_data = pd.read_csv('./resources/winequality-red.csv', delimiter=';')\n",
    "\n",
    "def plot_scatter_matrix(wine_data, good_threshold, bad_threshold, save_plot=False):\n",
    "    size = wine_data.shape[1]\n",
    "    fig, ax = plt.subplots(size, size, sharex=True, sharey=True, figsize=(30, 30))\n",
    "    plt.subplots_adjust(wspace=0, hspace=0)\n",
    "    plt.axis('off')\n",
    "    good = wine_data.quality > good_threshold\n",
    "    bad = wine_data.quality < bad_threshold\n",
    "    \n",
    "    count_good = wine_data[good].index\n",
    "    count_bad = wine_data[bad].index\n",
    "    \n",
    "    for i in range(0, size):\n",
    "        for j in range(0, size):\n",
    "            plt.subplot(size, size, 12 * i + j + 1)\n",
    "                \n",
    "            if (i == j):\n",
    "                plt.text(0.35, 0.5, wine_data.columns[j], dict(size=14),'figure points')\n",
    "                continue\n",
    "                \n",
    "            x1 = wine_data.iloc[count_good, j]\n",
    "            y1 = wine_data.iloc[count_good, i]\n",
    "            \n",
    "            x2 = wine_data.iloc[count_bad, j]\n",
    "            y2 = wine_data.iloc[count_bad, i]\n",
    "            \n",
    "            plt.plot(x1, y1, 'go', x2, y2, 'ro')\n",
    "\n",
    "\n",
    "\n",
    "    plt.show()\n",
    "    \n",
    "plot_scatter_matrix(wine_data = wine_data, good_threshold = 6, bad_threshold = 5, save_plot=False)\n",
    "                      \n",
    "            \n",
    "# hel = wine_data.quality > 7\n",
    "# wine_data[hel]\n",
    "# wine_data.iloc[wine_data[hel].index, 1]\n"
   ]
  },
  {
   "cell_type": "code",
   "execution_count": 48,
   "metadata": {},
   "outputs": [
    {
     "name": "stdout",
     "output_type": "stream",
     "text": [
      "\n",
      "0\n",
      "1\n",
      "\n",
      "0\n",
      "1\n"
     ]
    },
    {
     "data": {
      "image/png": "[encoded data removed]",
      "text/plain": [
       "<Figure size 432x288 with 1 Axes>"
      ]
     },
     "metadata": {
      "needs_background": "light"
     },
     "output_type": "display_data"
    }
   ],
   "source": [
    "import pandas as pd\n",
    "import matplotlib.pyplot as plt\n",
    "\n",
    "wine_data = pd.read_csv(\"./resources/winequality-red.csv\", delimiter=';')\n",
    "rel = wine_data.quality > 6\n",
    "res = wine_data.loc[rel, \"quality\"]\n",
    "# rep = wine_data.chlorides > 0.\n",
    "# print('----Count of chlorides----')\n",
    "# x = wine_data.loc[wine_data.quality > 6, \"volatile acidity\"]\n",
    "# y = wine_data.loc[wine_data.quality > 6, \"fixed acidity\"]\n",
    "\n",
    "# x1 = wine_data.loc[wine_data.quality < 5, \"volatile acidity\"]\n",
    "# y1 = wine_data.loc[wine_data.quality < 5, \"fixed acidity\"]\n",
    "\n",
    "good = wine_data.quality > 6\n",
    "bad = wine_data.quality < 5\n",
    "\n",
    "count_good = wine_data[good].index\n",
    "count_bad = wine_data[bad].index\n",
    "j = 1\n",
    "i = 0\n",
    "x1 = wine_data.iloc[count_good, j]\n",
    "y1 = wine_data.iloc[count_good, i]\n",
    "\n",
    "x2 = wine_data.iloc[count_bad, j]\n",
    "y2 = wine_data.iloc[count_bad, i]\n",
    "\n",
    "f, ax = plt.subplots(1)\n",
    "\n",
    "# res = wine_data.chlorides > 0.35\n",
    "# wine_data[res]\n",
    "# ap = wine_data.chlorides > 0.35\n",
    "# pa = wine_data.loc[ap, \"chlorides\"]\n",
    "\n",
    "# plt.subplot(221)\n",
    "plt.plot(x1, y1, 'go', x2, y2, 'ro')\n",
    "# plt.subplot(222)\n",
    "# plt.text(0.35, 0.5, 'quality', dict(size=18),'figure points')\n",
    "\n",
    "# ax1 = plt.gca()\n",
    "# ax1.axes.get_xaxis().set_ticks([])\n",
    "# ax1.axes.get_yaxis().set_ticks([])\n",
    "\n",
    "# ax.plot(x, y, 'ro')\n",
    "# ax.set_ylabel('V')\n",
    "# ax.set_xlabel('t')\n",
    "\n",
    "ax.set_yticklabels([])\n",
    "ax.set_xticklabels([])\n",
    "\n",
    "# plt.show()\n",
    "# x\n",
    "size = wine_data.shape[1]\n",
    "# i = 0;\n",
    "# while i < size :\n",
    "# #     print(i)\n",
    "#     i += 1\n",
    "# for i in range(0, size) :\n",
    "#     print(i)\n",
    "# wine_data.columns[0]\n",
    "\n",
    "for i in range(0, 2):\n",
    "    print()\n",
    "    for j in range(0, 2):\n",
    "        print(j)"
   ]
  },
  {
   "cell_type": "code",
   "execution_count": 39,
   "metadata": {},
   "outputs": [
    {
     "name": "stdout",
     "output_type": "stream",
     "text": [
      "~~~~~~\n",
      "fixed acidity\n",
      "~~~~~~\n",
      "volatile acidity\n"
     ]
    },
    {
     "data": {
      "image/png": "[encoded data removed]",
      "text/plain": [
       "<Figure size 432x288 with 4 Axes>"
      ]
     },
     "metadata": {
      "needs_background": "light"
     },
     "output_type": "display_data"
    }
   ],
   "source": [
    "import pandas as pd\n",
    "import matplotlib.pyplot as plt\n",
    "\n",
    "wine_data = pd.read_csv('./resources/winequality-red.csv', delimiter=';')\n",
    "wine_data\n",
    "\n",
    "def plot_scatter_matrix(wine_data, good_threshold, bad_threshold, save_plot=False):\n",
    "    size = wine_data.shape[1]\n",
    "    fig, ax = plt.subplots(2, 2)\n",
    "    good = wine_data.quality > good_threshold\n",
    "    bad = wine_data.quality < bad_threshold\n",
    "    \n",
    "    count_good = wine_data[good].index\n",
    "    count_bad = wine_data[bad].index\n",
    "    for i in range(0, 2):\n",
    "        print('~~~~~~')\n",
    "        for j in range(0, 2):\n",
    "            plt.subplot(2, 2, i + j + 1)\n",
    "                \n",
    "            if (i == j):\n",
    "                plt.text(0.35, 0.5, wine_data.columns[j], dict(size=12),'figure points')\n",
    "                continue\n",
    "                \n",
    "            x1 = wine_data.iloc[count_good, j]\n",
    "            y1 = wine_data.iloc[count_good, i]\n",
    "            \n",
    "            x2 = wine_data.iloc[count_bad, j]\n",
    "            y2 = wine_data.iloc[count_bad, i]\n",
    "            \n",
    "            plt.plot(x1, y1, 'go', x2, y2, 'ro')\n",
    "            print(wine_data.columns[i])\n",
    "#             plt.axis('off')\n",
    "\n",
    "    plt.show()\n",
    "    \n",
    "plot_scatter_matrix(wine_data = wine_data, good_threshold = 6, bad_threshold = 5, save_plot=False)\n",
    "                      "
   ]
  }
 ],
 "metadata": {
  "kernelspec": {
   "display_name": "Python 3",
   "language": "python",
   "name": "python3"
  },
  "language_info": {
   "codemirror_mode": {
    "name": "ipython",
    "version": 3
   },
   "file_extension": ".py",
   "mimetype": "text/x-python",
   "name": "python",
   "nbconvert_exporter": "python",
   "pygments_lexer": "ipython3",
   "version": "3.6.2"
  }
 },
 "nbformat": 4,
 "nbformat_minor": 2
}
