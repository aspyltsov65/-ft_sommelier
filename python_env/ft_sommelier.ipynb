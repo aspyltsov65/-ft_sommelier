{
 "cells": [
  {
   "cell_type": "markdown",
   "metadata": {},
   "source": [
    "## V.1 Exploring the green reds"
   ]
  },
  {
   "cell_type": "markdown",
   "metadata": {},
   "source": [
    "### a) Write a function that will plot a scatterplot matrix of your red wine data."
   ]
  },
  {
   "cell_type": "code",
   "execution_count": 80,
   "metadata": {
    "scrolled": false
   },
   "outputs": [
    {
     "name": "stdout",
     "output_type": "stream",
     "text": [
      "\u001b[91m\u001b[1mError: \u001b[0minvalid arguments\n"
     ]
    }
   ],
   "source": [
    "import pandas as pd\n",
    "import matplotlib.pyplot as plt\n",
    "\n",
    "wine_data = pd.read_csv('./resources/winequality-red.csv', delimiter=';')\n",
    "\n",
    "def plot_scatter_matrix(wine_data, good_threshold, bad_threshold, save_plot=False):\n",
    "    if(good_threshold < bad_threshold or good_threshold > 8 or good_threshold < 3 \n",
    "      or bad_threshold > 8 or bad_threshold < 3):\n",
    "        print('\\033[91m' + '\\033[1m' + 'Error: ' + '\\x1b[0m' + 'invalid arguments')\n",
    "        return \n",
    "    size = wine_data.shape[1]\n",
    "    fig, ax = plt.subplots(size, size, sharex=True, sharey=True, figsize=(30, 30))\n",
    "    plt.subplots_adjust(wspace=0, hspace=0)\n",
    "    \n",
    "    good = wine_data.quality > good_threshold\n",
    "    bad = wine_data.quality < bad_threshold\n",
    "    \n",
    "    count_good = wine_data[good].index\n",
    "    count_bad = wine_data[bad].index\n",
    "    \n",
    "    for i in range(0, size):\n",
    "        for j in range(0, size):\n",
    "            plt.subplot(size, size, 12 * i + j + 1)\n",
    "            plt.xticks([])\n",
    "            plt.yticks([])\n",
    "            \n",
    "            if (i == j):\n",
    "                plt.text(0.5, 0.5, wine_data.columns[j], fontsize=15, ha='center', va='center')\n",
    "                continue\n",
    "                \n",
    "            x1 = wine_data.iloc[count_good, j]\n",
    "            y1 = wine_data.iloc[count_good, i]\n",
    "            \n",
    "            x2 = wine_data.iloc[count_bad, j]\n",
    "            y2 = wine_data.iloc[count_bad, i]\n",
    "            \n",
    "            plt.plot(x1, y1, 'go', x2, y2, 'ro', alpha= 0.5)\n",
    "            \n",
    "            \n",
    "    if(save_plot):\n",
    "        fig.savefig('scatterplot_matrix.png')\n",
    "    plt.show()\n",
    "\n",
    "# Call function\n",
    "plot_scatter_matrix(wine_data, -1, -2, False) \n"
   ]
  },
  {
   "cell_type": "markdown",
   "metadata": {},
   "source": [
    " ### b) Which factors do you think will be most useful to your perceptron for distinguishing high quality vs. low quality wines? Why?"
   ]
  },
  {
   "cell_type": "code",
   "execution_count": null,
   "metadata": {},
   "outputs": [],
   "source": []
  },
  {
   "cell_type": "markdown",
   "metadata": {},
   "source": [
    "## V.2 Learning to perceptron"
   ]
  },
  {
   "cell_type": "markdown",
   "metadata": {},
   "source": [
    "### a)"
   ]
  },
  {
   "cell_type": "code",
   "execution_count": null,
   "metadata": {},
   "outputs": [],
   "source": []
  }
 ],
 "metadata": {
  "kernelspec": {
   "display_name": "Python 3",
   "language": "python",
   "name": "python3"
  },
  "language_info": {
   "codemirror_mode": {
    "name": "ipython",
    "version": 3
   },
   "file_extension": ".py",
   "mimetype": "text/x-python",
   "name": "python",
   "nbconvert_exporter": "python",
   "pygments_lexer": "ipython3",
   "version": "3.6.2"
  }
 },
 "nbformat": 4,
 "nbformat_minor": 2
}
